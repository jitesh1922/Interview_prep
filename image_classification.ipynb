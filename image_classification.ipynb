{
 "cells": [
  {
   "cell_type": "code",
   "execution_count": null,
   "metadata": {},
   "outputs": [],
   "source": [
    "import torch\n",
    "import torch.nn as nn\n",
    "import torch.optim as optim\n",
    "from torch.utils.data import DataLoader, Dataset\n",
    "from torchvision import transforms\n",
    "from PIL import Image\n",
    "import os"
   ]
  },
  {
   "cell_type": "code",
   "execution_count": 17,
   "metadata": {},
   "outputs": [],
   "source": [
    "class Dogcatclassifier(nn.Module):\n",
    "    def __init__(self):\n",
    "        super(Dogcatclassifier, self).__init__()\n",
    "        self.conv1 = nn.Conv2d(3,6, kernel_size=3)\n",
    "        self.pool = nn.MaxPool1d(2,2)\n",
    "        self.conv2 = nn.Conv2d(6, 16, kernel_size=3)\n",
    "        self.fc1 = nn.Linear(16 * 7 * 7, 2)\n",
    "    \n",
    "    def forward(self, x):\n",
    "        x = self.pool(nn.functional.relu(self.conv1(x)))\n",
    "        x = self.pool(nn.functional.relu(self.conv2(x)))\n",
    "        x = x.view(-1, x.shape[1] * x.shape[2] * x.shape[3])\n",
    "        self.fc1 = nn.Linear(16 * 7 *7, 2)\n",
    "        return x\n",
    "    \n",
    "model = Dogcatclassifier()"
   ]
  },
  {
   "cell_type": "code",
   "execution_count": null,
   "metadata": {},
   "outputs": [],
   "source": [
    "image_path = 'dog.jpeg'\n",
    "image = Image.open(image_path)\n",
    "\n",
    "from torchvision import transforms\n",
    "transform = transforms.Compose([transforms.Resize((224,224)), transforms.ToTensor()])\n",
    "image = transform(image)"
   ]
  },
  {
   "cell_type": "code",
   "execution_count": null,
   "metadata": {},
   "outputs": [],
   "source": [
    "output = model(image.unsqueeze(0))\n",
    "_ , predicted = torch.max(output, 1)\n",
    "\n",
    "classes = ['cat', 'dog']\n",
    "\n",
    "print(f'Predicted Class : {classes[predicted.item()]}')"
   ]
  }
 ],
 "metadata": {
  "kernelspec": {
   "display_name": "3.10.11",
   "language": "python",
   "name": "python3"
  },
  "language_info": {
   "codemirror_mode": {
    "name": "ipython",
    "version": 3
   },
   "file_extension": ".py",
   "mimetype": "text/x-python",
   "name": "python",
   "nbconvert_exporter": "python",
   "pygments_lexer": "ipython3",
   "version": "3.10.11"
  }
 },
 "nbformat": 4,
 "nbformat_minor": 2
}
